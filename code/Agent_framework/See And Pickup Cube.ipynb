{
 "cells": [
  {
   "cell_type": "code",
   "execution_count": null,
   "metadata": {},
   "outputs": [],
   "source": [
    "import cozmo\n",
    "\n",
    "def look_for_cube(robot: cozmo.robot.Robot):\n",
    "   \n",
    "   value = 0\n",
    "    # Lookaround until Cozmo knows where at least 1 cube is:\n",
    "    lookaround = robot.start_behavior(cozmo.behavior.BehaviorTypes.LookAroundInPlace)\n",
    "    cubes = robot.world.wait_until_observe_num_objects(num=1, object_type=cozmo.objects.LightCube, timeout=60)\n",
    "    lookaround.stop()\n",
    "\n",
    "    if len(cubes) < 1:\n",
    "        print(\"Error: need at least 1 cube but none found\")\n",
    "    else:\n",
    "        value = 1\n",
    "        \n",
    "    return value\n",
    "\n",
    "def pickup_cube(robot: cozmo.robot.Robot):\n",
    "    \n",
    "    value = 0\n",
    "     # Try and pickup the cube\n",
    "        current_action = robot.pickup_object(cubes[0], num_retries=3)\n",
    "        current_action.wait_for_completed()\n",
    "        if current_action.has_failed:\n",
    "            print(\"Pickup Cube failed\")\n",
    "        else:\n",
    "            value = 1\n",
    "        return value\n",
    "\n",
    "cozmo.run_program(look_for_cube)\n",
    "cozmo.run_program(pickup_cube)\n",
    "\n"
   ]
  }
 ],
 "metadata": {
  "kernelspec": {
   "display_name": "Python 3",
   "language": "python",
   "name": "python3"
  },
  "language_info": {
   "codemirror_mode": {
    "name": "ipython",
    "version": 3
   },
   "file_extension": ".py",
   "mimetype": "text/x-python",
   "name": "python",
   "nbconvert_exporter": "python",
   "pygments_lexer": "ipython3",
   "version": "3.6.5"
  }
 },
 "nbformat": 4,
 "nbformat_minor": 2
}
